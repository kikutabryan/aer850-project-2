{
 "cells": [
  {
   "cell_type": "code",
   "execution_count": 16,
   "metadata": {},
   "outputs": [],
   "source": [
    "# Imports\n",
    "import os\n",
    "import numpy as np\n",
    "import pandas as pd\n",
    "import matplotlib.pyplot as plt\n",
    "import keras_tuner as kt\n",
    "import tensorflow as tf\n",
    "from tensorflow import keras\n",
    "from keras import models, layers\n",
    "from tensorflow.python.client import device_lib\n",
    "import datetime"
   ]
  },
  {
   "cell_type": "code",
   "execution_count": 17,
   "metadata": {},
   "outputs": [
    {
     "name": "stdout",
     "output_type": "stream",
     "text": [
      "[name: \"/device:CPU:0\"\n",
      "device_type: \"CPU\"\n",
      "memory_limit: 268435456\n",
      "locality {\n",
      "}\n",
      "incarnation: 5521946454118780974\n",
      "xla_global_id: -1\n",
      "]\n"
     ]
    }
   ],
   "source": [
    "# Enable GPUs if present\n",
    "print(device_lib.list_local_devices())\n",
    "gpus = tf.config.experimental.list_physical_devices(\"GPU\")\n",
    "for gpu in gpus:\n",
    "    tf.config.experimental.set_memory_growth(gpu, True)"
   ]
  },
  {
   "cell_type": "code",
   "execution_count": 18,
   "metadata": {},
   "outputs": [],
   "source": [
    "# Define directories\n",
    "data_folder = os.path.join(\"..\", \"data\")\n",
    "model_folder = os.path.join(\"..\", \"models\")\n",
    "tune_folder = os.path.join(\"..\", \"tuning\")\n",
    "\n",
    "# Seed\n",
    "seed_value = 42"
   ]
  },
  {
   "cell_type": "markdown",
   "metadata": {},
   "source": [
    "# Step 1: Data Processing"
   ]
  },
  {
   "cell_type": "code",
   "execution_count": 19,
   "metadata": {},
   "outputs": [
    {
     "name": "stdout",
     "output_type": "stream",
     "text": [
      "Found 539 files belonging to 3 classes.\n",
      "Found 1942 files belonging to 3 classes.\n",
      "Found 431 files belonging to 3 classes.\n"
     ]
    }
   ],
   "source": [
    "image_shape = (500, 500, 3)  # Create tuple for image size\n",
    "\n",
    "# Establish paths\n",
    "test_path = os.path.join(data_folder, \"test\")\n",
    "train_path = os.path.join(data_folder, \"train\")\n",
    "valid_path = os.path.join(data_folder, \"valid\")\n",
    "\n",
    "# Load the images sets\n",
    "test_images = keras.utils.image_dataset_from_directory(\n",
    "    directory=test_path,\n",
    "    labels=\"inferred\",\n",
    "    image_size=(image_shape[0], image_shape[1]),\n",
    ")\n",
    "train_images = keras.utils.image_dataset_from_directory(\n",
    "    directory=train_path,\n",
    "    labels=\"inferred\",\n",
    "    image_size=(image_shape[0], image_shape[1]),\n",
    ")\n",
    "valid_images = keras.utils.image_dataset_from_directory(\n",
    "    directory=valid_path,\n",
    "    labels=\"inferred\",\n",
    "    image_size=(image_shape[0], image_shape[1]),\n",
    ")"
   ]
  },
  {
   "cell_type": "markdown",
   "metadata": {},
   "source": [
    "# Step 2: Neural Network Architecture Design"
   ]
  },
  {
   "cell_type": "code",
   "execution_count": 20,
   "metadata": {},
   "outputs": [],
   "source": [
    "def build_model(hp):\n",
    "    # Initialize the model\n",
    "    model = models.Sequential(\n",
    "        [\n",
    "            layers.Input(shape=image_shape),\n",
    "            layers.RandomFlip(\"horizontal_and_vertical\"),\n",
    "            layers.RandomRotation(1),\n",
    "            layers.RandomBrightness(0.2),\n",
    "            layers.RandomContrast(0.2),\n",
    "            layers.RandomCrop(400, 400),\n",
    "            layers.RandomTranslation(0.2, 0.2),\n",
    "            layers.RandomZoom(0.2),\n",
    "        ]\n",
    "    )\n",
    "\n",
    "    # Tune the number of Conv2D layers (e.g., between 1 and 5 layers)\n",
    "    for i in range(hp.Int(\"num_conv_layers\", min_value=1, max_value=5)):\n",
    "        model.add(\n",
    "            layers.Conv2D(\n",
    "                filters=hp.Int(\n",
    "                    f\"conv_{i+1}_filters\", min_value=8, max_value=128, step=8\n",
    "                ),\n",
    "                kernel_size=hp.Choice(f\"conv_{i+1}_kernel\", values=[3, 5]),\n",
    "                activation=\"relu\",\n",
    "            )\n",
    "        )\n",
    "        model.add(layers.MaxPooling2D(pool_size=(2, 2)))\n",
    "        model.add(\n",
    "            layers.Dropout(\n",
    "                rate=hp.Float(\"dropout_rate\", min_value=0.1, max_value=0.5, step=0.1)\n",
    "            )\n",
    "        )\n",
    "\n",
    "    model.add(layers.BatchNormalization())\n",
    "    model.add(layers.Flatten())\n",
    "\n",
    "    # Tune the number of Dense layers (e.g., between 1 and 5 layers)\n",
    "    for j in range(hp.Int(\"num_dense_layers\", min_value=1, max_value=5)):\n",
    "        model.add(\n",
    "            layers.Dense(\n",
    "                units=hp.Int(\n",
    "                    f\"dense_{j+1}_units\", min_value=10, max_value=100, step=10\n",
    "                ),\n",
    "                activation=hp.Choice(\"dense_activation\", values=[\"relu\", \"selu\"]),\n",
    "            )\n",
    "        )\n",
    "        model.add(\n",
    "            layers.Dropout(\n",
    "                rate=hp.Float(\"dropout_rate\", min_value=0.1, max_value=0.5, step=0.1)\n",
    "            )\n",
    "        )\n",
    "\n",
    "    model.add(layers.Dense(3, activation=\"softmax\"))  # Output layer\n",
    "\n",
    "    # Compile the model with a tunable learning rate\n",
    "    model.compile(\n",
    "        optimizer=keras.optimizers.Adam(\n",
    "            hp.Choice(\"learning_rate\", values=[1e-2, 1e-3, 1e-4])\n",
    "        ),\n",
    "        loss=\"sparse_categorical_crossentropy\",\n",
    "        metrics=[\"accuracy\"],\n",
    "    )\n",
    "\n",
    "    return model"
   ]
  },
  {
   "cell_type": "markdown",
   "metadata": {},
   "source": [
    "# Step 3: Hyperparameter Analysis"
   ]
  },
  {
   "cell_type": "code",
   "execution_count": null,
   "metadata": {},
   "outputs": [],
   "source": [
    "# Create a tuner\n",
    "# tuner = kt.RandomSearch(build_model, objective=\"val_accuracy\", max_trials=50)\n",
    "tuner = kt.BayesianOptimization(\n",
    "    build_model,\n",
    "    objective=\"val_accuracy\",\n",
    "    max_trials=20,\n",
    "    directory=tune_folder,\n",
    "    project_name=\"bayesian_opt\"\n",
    ")\n",
    "\n",
    "# Tune the model\n",
    "tuner.search(\n",
    "    train_images,\n",
    "    epochs=10,\n",
    "    validation_data=valid_images,\n",
    "    batch_size=32\n",
    ")\n",
    "\n",
    "# Select the best model\n",
    "model = tuner.get_best_models()[0]\n",
    "\n",
    "# Display the model's architecture\n",
    "model.summary()"
   ]
  },
  {
   "cell_type": "code",
   "execution_count": null,
   "metadata": {},
   "outputs": [],
   "source": [
    "# Save the model\n",
    "model_path = os.path.join(\n",
    "    model_folder, f\"model_{datetime.datetime.now().strftime('%Y%m%d_%H%M%S')}.keras\"\n",
    ")\n",
    "model.save(model_path)"
   ]
  },
  {
   "cell_type": "markdown",
   "metadata": {},
   "source": [
    "# Model Evaluation"
   ]
  },
  {
   "cell_type": "code",
   "execution_count": 26,
   "metadata": {},
   "outputs": [
    {
     "name": "stdout",
     "output_type": "stream",
     "text": [
      "\u001b[1m17/17\u001b[0m \u001b[32m━━━━━━━━━━━━━━━━━━━━\u001b[0m\u001b[37m\u001b[0m \u001b[1m4s\u001b[0m 205ms/step - accuracy: 0.5708 - loss: 1.1042\n"
     ]
    }
   ],
   "source": [
    "# Load the model\n",
    "model = keras.models.load_model(model_path)\n",
    "\n",
    "# Evaluate on test data\n",
    "test_loss, test_acc = model.evaluate(\n",
    "    x=test_images\n",
    ")"
   ]
  }
 ],
 "metadata": {
  "kernelspec": {
   "display_name": ".venv",
   "language": "python",
   "name": "python3"
  },
  "language_info": {
   "codemirror_mode": {
    "name": "ipython",
    "version": 3
   },
   "file_extension": ".py",
   "mimetype": "text/x-python",
   "name": "python",
   "nbconvert_exporter": "python",
   "pygments_lexer": "ipython3",
   "version": "3.11.10"
  }
 },
 "nbformat": 4,
 "nbformat_minor": 2
}
